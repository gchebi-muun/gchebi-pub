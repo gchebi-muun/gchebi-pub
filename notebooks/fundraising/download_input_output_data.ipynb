{
 "cells": [
  {
   "cell_type": "code",
   "execution_count": 1,
   "id": "initial_id",
   "metadata": {
    "collapsed": true,
    "ExecuteTime": {
     "end_time": "2024-03-28T20:19:51.737325Z",
     "start_time": "2024-03-28T20:19:50.676510Z"
    }
   },
   "outputs": [
    {
     "name": "stdout",
     "output_type": "stream",
     "text": [
      "/Users/gchebi/muun/python-clients/curiosity/curiosity/notebooks\n"
     ]
    }
   ],
   "source": [
    "\n",
    "\n",
    "import utils\n",
    "%autoawait asyncio\n"
   ]
  },
  {
   "cell_type": "markdown",
   "source": [
    "This notebook contains the code and the batching strategy needed to download the syncer data needed to populate the transactions table."
   ],
   "metadata": {
    "collapsed": false
   },
   "id": "a2d5ef7f1bbe54f5"
  },
  {
   "cell_type": "code",
   "execution_count": 4,
   "outputs": [
    {
     "name": "stdout",
     "output_type": "stream",
     "text": [
      "41000041\n",
      "42000042\n",
      "43000043\n",
      "44000044\n",
      "45000045\n",
      "46000046\n",
      "47000047\n",
      "48000048\n",
      "49000049\n",
      "50000050\n",
      "51000051\n",
      "52000052\n",
      "53000053\n",
      "54000054\n",
      "55000055\n"
     ]
    }
   ],
   "source": [
    "current_min = 0\n",
    "batch_size = 1000000\n",
    "STOP = 56000000\n",
    "while current_min < STOP:\n",
    "    print(current_min)\n",
    "    df = await utils.download_inputs(current_min, current_min+batch_size)\n",
    "    df.to_csv(f'/Users/gchebi/data/inputs_{current_min}_{current_min+batch_size}')\n",
    "    current_min += batch_size + 1"
   ],
   "metadata": {
    "collapsed": false,
    "ExecuteTime": {
     "end_time": "2024-03-28T20:13:49.761485Z",
     "start_time": "2024-03-28T20:10:27.695203Z"
    }
   },
   "id": "5f43d74c6d01b583"
  },
  {
   "cell_type": "code",
   "execution_count": 2,
   "outputs": [
    {
     "name": "stdout",
     "output_type": "stream",
     "text": [
      "0\n",
      "1000001\n",
      "2000002\n",
      "3000003\n",
      "4000004\n",
      "5000005\n",
      "6000006\n",
      "7000007\n",
      "8000008\n",
      "9000009\n",
      "10000010\n",
      "11000011\n",
      "12000012\n",
      "13000013\n",
      "14000014\n",
      "15000015\n",
      "16000016\n",
      "17000017\n",
      "18000018\n",
      "19000019\n",
      "20000020\n",
      "21000021\n",
      "22000022\n",
      "23000023\n",
      "24000024\n",
      "25000025\n",
      "26000026\n",
      "27000027\n",
      "28000028\n",
      "29000029\n",
      "30000030\n",
      "31000031\n",
      "32000032\n",
      "33000033\n",
      "34000034\n",
      "35000035\n",
      "36000036\n",
      "37000037\n",
      "38000038\n",
      "39000039\n",
      "40000040\n",
      "41000041\n",
      "42000042\n",
      "43000043\n",
      "44000044\n",
      "45000045\n",
      "46000046\n",
      "47000047\n",
      "48000048\n",
      "49000049\n",
      "50000050\n",
      "51000051\n",
      "52000052\n",
      "53000053\n",
      "54000054\n",
      "55000055\n"
     ]
    }
   ],
   "source": [
    "current_min = 0\n",
    "batch_size = 1000000\n",
    "STOP = 56000000\n",
    "while current_min < STOP:\n",
    "    print(current_min)\n",
    "    df = await utils.download_outputs(current_min, current_min+batch_size)\n",
    "    df.to_csv(f'/Users/gchebi/data/outputs_{current_min}_{current_min+batch_size}')\n",
    "    current_min += batch_size + 1"
   ],
   "metadata": {
    "collapsed": false,
    "ExecuteTime": {
     "end_time": "2024-03-28T20:45:49.686059Z",
     "start_time": "2024-03-28T20:19:59.073408Z"
    }
   },
   "id": "9283104f95bb730"
  },
  {
   "cell_type": "markdown",
   "source": [
    "All the content of these files were populated in the transactions table in SQLite"
   ],
   "metadata": {
    "collapsed": false
   },
   "id": "43e1228389d6175a"
  }
 ],
 "metadata": {
  "kernelspec": {
   "display_name": "Python 3",
   "language": "python",
   "name": "python3"
  },
  "language_info": {
   "codemirror_mode": {
    "name": "ipython",
    "version": 2
   },
   "file_extension": ".py",
   "mimetype": "text/x-python",
   "name": "python",
   "nbconvert_exporter": "python",
   "pygments_lexer": "ipython2",
   "version": "2.7.6"
  }
 },
 "nbformat": 4,
 "nbformat_minor": 5
}
